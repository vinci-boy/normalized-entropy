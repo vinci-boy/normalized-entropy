{
 "cells": [
  {
   "cell_type": "code",
   "execution_count": 1,
   "metadata": {},
   "outputs": [
    {
     "name": "stdout",
     "output_type": "stream",
     "text": [
      "0.9232196723355077\n",
      "0.7298466991620974\n",
      "0.9372305632161295 0.4689955935892812 1.0 0.9232196723355077\n",
      "1.0\n"
     ]
    }
   ],
   "source": [
    "import math\n",
    "\n",
    "bernoulli = [0.5, 0.5]\n",
    "my_list = [0.1, 0.9]\n",
    "long_list = [0.1, 0.2, 0.7]\n",
    "normal = [0.2, 0.3, 0.5]\n",
    "coco = [0.1, 0.2, 0.3, 0.4]\n",
    "sett = [200, 300, 400, 100]\n",
    "uniform = [333, 333, 333]\n",
    "\n",
    "def entropy(list):\n",
    "    fresh_man = []\n",
    "    for i in list:\n",
    "        prob = i/sum(list)\n",
    "        fresh_man.append(prob)\n",
    "    \n",
    "    new = []\n",
    "    b = len(list)\n",
    "    for i in fresh_man:\n",
    "        E = i * math.log(i, b)\n",
    "        new.append(E)\n",
    "    return sum(new) * -1\n",
    "\n",
    "print(entropy(sett))\n",
    "print(entropy(long_list))\n",
    "print(entropy(normal), entropy(my_list), entropy(bernoulli), entropy(coco))\n",
    "print(entropy(uniform))"
   ]
  },
  {
   "cell_type": "code",
   "execution_count": null,
   "metadata": {},
   "outputs": [],
   "source": []
  }
 ],
 "metadata": {
  "kernelspec": {
   "display_name": "Python 3",
   "language": "python",
   "name": "python3"
  },
  "language_info": {
   "codemirror_mode": {
    "name": "ipython",
    "version": 3
   },
   "file_extension": ".py",
   "mimetype": "text/x-python",
   "name": "python",
   "nbconvert_exporter": "python",
   "pygments_lexer": "ipython3",
   "version": "3.8.3"
  }
 },
 "nbformat": 4,
 "nbformat_minor": 4
}
